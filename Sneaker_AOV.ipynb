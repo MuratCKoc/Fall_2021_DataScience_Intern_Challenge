{
 "cells": [
  {
   "cell_type": "markdown",
   "id": "signal-director",
   "metadata": {},
   "source": [
    "# Author: Murat C Koc\n",
    "## Objective: Calculate Shopify Sneaker Stores AOV\n",
    "## Challenge: Shopify Data Science Internship - Fall 2021\n",
    "\n",
    "### Question 1:\n",
    "On Shopify, we have exactly 100 sneaker shops, and each of these shops sells only one model of shoe. We want to do some analysis of the average order value (AOV). When we look at orders data over a 30 day window, we naively calculate an AOV of $3145.13. Given that we know these shops are selling sneakers, a relatively affordable item, something seems wrong with our analysis. \n",
    "\n",
    "1. Think about what could be going wrong with our calculation. Think about a better way to evaluate this data. \n",
    "2. What metric would you report for this dataset?\n",
    "3. What is its value?\n",
    "\n",
    "### Answers:\n",
    "1. Store_id 78 price per item is 25725 which skew the data. Additionally, automated orders of user_id 607 from store_id 42 with 352 price per item also push the AOV higher values. \n",
    "In order to mitigate the effects of extreme outliers, such as store 78 and user_id 607 from the analysis, we need to exclude the store 78 from the data set.\n",
    "\n",
    "2. Median would be a better metric for that type of skewed data sets.\n",
    "\n",
    "3. $284.0\n",
    "\n",
    "### Question 2 answer is at the end of this noteboook"
   ]
  },
  {
   "cell_type": "code",
   "execution_count": 251,
   "id": "educational-extraction",
   "metadata": {},
   "outputs": [],
   "source": [
    "# Libraries\n",
    "import pandas as pd\n",
    "from pandas import datetime\n",
    "import matplotlib.pyplot as plt\n",
    "import numpy as np\n",
    "import scipy.stats as sts"
   ]
  },
  {
   "cell_type": "code",
   "execution_count": 252,
   "id": "popular-above",
   "metadata": {},
   "outputs": [
    {
     "data": {
      "text/html": [
       "<div>\n",
       "<style scoped>\n",
       "    .dataframe tbody tr th:only-of-type {\n",
       "        vertical-align: middle;\n",
       "    }\n",
       "\n",
       "    .dataframe tbody tr th {\n",
       "        vertical-align: top;\n",
       "    }\n",
       "\n",
       "    .dataframe thead th {\n",
       "        text-align: right;\n",
       "    }\n",
       "</style>\n",
       "<table border=\"1\" class=\"dataframe\">\n",
       "  <thead>\n",
       "    <tr style=\"text-align: right;\">\n",
       "      <th></th>\n",
       "      <th>order_id</th>\n",
       "      <th>shop_id</th>\n",
       "      <th>user_id</th>\n",
       "      <th>order_amount</th>\n",
       "      <th>total_items</th>\n",
       "      <th>payment_method</th>\n",
       "      <th>created_at</th>\n",
       "    </tr>\n",
       "  </thead>\n",
       "  <tbody>\n",
       "    <tr>\n",
       "      <th>0</th>\n",
       "      <td>1</td>\n",
       "      <td>53</td>\n",
       "      <td>746</td>\n",
       "      <td>224</td>\n",
       "      <td>2</td>\n",
       "      <td>cash</td>\n",
       "      <td>2017-03-13 12:36:56</td>\n",
       "    </tr>\n",
       "    <tr>\n",
       "      <th>1</th>\n",
       "      <td>2</td>\n",
       "      <td>92</td>\n",
       "      <td>925</td>\n",
       "      <td>90</td>\n",
       "      <td>1</td>\n",
       "      <td>cash</td>\n",
       "      <td>2017-03-03 17:38:52</td>\n",
       "    </tr>\n",
       "    <tr>\n",
       "      <th>2</th>\n",
       "      <td>3</td>\n",
       "      <td>44</td>\n",
       "      <td>861</td>\n",
       "      <td>144</td>\n",
       "      <td>1</td>\n",
       "      <td>cash</td>\n",
       "      <td>2017-03-14 4:23:56</td>\n",
       "    </tr>\n",
       "    <tr>\n",
       "      <th>3</th>\n",
       "      <td>4</td>\n",
       "      <td>18</td>\n",
       "      <td>935</td>\n",
       "      <td>156</td>\n",
       "      <td>1</td>\n",
       "      <td>credit_card</td>\n",
       "      <td>2017-03-26 12:43:37</td>\n",
       "    </tr>\n",
       "    <tr>\n",
       "      <th>4</th>\n",
       "      <td>5</td>\n",
       "      <td>18</td>\n",
       "      <td>883</td>\n",
       "      <td>156</td>\n",
       "      <td>1</td>\n",
       "      <td>credit_card</td>\n",
       "      <td>2017-03-01 4:35:11</td>\n",
       "    </tr>\n",
       "  </tbody>\n",
       "</table>\n",
       "</div>"
      ],
      "text/plain": [
       "   order_id  shop_id  user_id  order_amount  total_items payment_method  \\\n",
       "0         1       53      746           224            2           cash   \n",
       "1         2       92      925            90            1           cash   \n",
       "2         3       44      861           144            1           cash   \n",
       "3         4       18      935           156            1    credit_card   \n",
       "4         5       18      883           156            1    credit_card   \n",
       "\n",
       "            created_at  \n",
       "0  2017-03-13 12:36:56  \n",
       "1  2017-03-03 17:38:52  \n",
       "2   2017-03-14 4:23:56  \n",
       "3  2017-03-26 12:43:37  \n",
       "4   2017-03-01 4:35:11  "
      ]
     },
     "execution_count": 252,
     "metadata": {},
     "output_type": "execute_result"
    }
   ],
   "source": [
    "# Read csv into Dataframe\n",
    "shoe_df = pd.read_csv('https://raw.githubusercontent.com/MuratCKoc/Fall_2021_DataScience_Intern_Challenge/main/data/shopify_sneakers.csv')\n",
    "shoe_df.head()"
   ]
  },
  {
   "cell_type": "markdown",
   "id": "impressive-provider",
   "metadata": {},
   "source": [
    "#### Step 1: Check data quality"
   ]
  },
  {
   "cell_type": "code",
   "execution_count": 253,
   "id": "electrical-damages",
   "metadata": {},
   "outputs": [
    {
     "name": "stdout",
     "output_type": "stream",
     "text": [
      "Null check passed! No Null values Detected\n"
     ]
    }
   ],
   "source": [
    "# Check Null values\n",
    "if shoe_df.isnull().values.any() == 'False':\n",
    "    print('NULL DETECTED... Dropping the Nulls')\n",
    "    shoe_df = shoe_df.dropna(how='any')\n",
    "else:\n",
    "    print('Null check passed! No Null values Detected')"
   ]
  },
  {
   "cell_type": "code",
   "execution_count": 254,
   "id": "fancy-campaign",
   "metadata": {},
   "outputs": [
    {
     "data": {
      "text/plain": [
       "0       False\n",
       "1       False\n",
       "2       False\n",
       "3       False\n",
       "4       False\n",
       "        ...  \n",
       "4995    False\n",
       "4996    False\n",
       "4997    False\n",
       "4998    False\n",
       "4999    False\n",
       "Length: 5000, dtype: bool"
      ]
     },
     "execution_count": 254,
     "metadata": {},
     "output_type": "execute_result"
    }
   ],
   "source": [
    "# Check duplicate entries\n",
    "shoe_df.duplicated(keep='last')"
   ]
  },
  {
   "cell_type": "code",
   "execution_count": 255,
   "id": "adaptive-garage",
   "metadata": {},
   "outputs": [
    {
     "data": {
      "text/plain": [
       "order_id           int64\n",
       "shop_id            int64\n",
       "user_id            int64\n",
       "order_amount       int64\n",
       "total_items        int64\n",
       "payment_method    object\n",
       "created_at        object\n",
       "dtype: object"
      ]
     },
     "execution_count": 255,
     "metadata": {},
     "output_type": "execute_result"
    }
   ],
   "source": [
    "# Check Data types\n",
    "shoe_df.dtypes"
   ]
  },
  {
   "cell_type": "code",
   "execution_count": 256,
   "id": "fiscal-newton",
   "metadata": {},
   "outputs": [
    {
     "data": {
      "text/plain": [
       "order_id                   int64\n",
       "shop_id                    int64\n",
       "user_id                    int64\n",
       "order_amount               int64\n",
       "total_items                int64\n",
       "payment_method            object\n",
       "created_at        datetime64[ns]\n",
       "dtype: object"
      ]
     },
     "execution_count": 256,
     "metadata": {},
     "output_type": "execute_result"
    }
   ],
   "source": [
    "# Convert date types -> created_at\n",
    "shoe_df['created_at'] = pd.to_datetime(shoe_df['created_at'])\n",
    "shoe_df.dtypes"
   ]
  },
  {
   "cell_type": "markdown",
   "id": "faced-victorian",
   "metadata": {},
   "source": [
    "#### Step 2: Explore the data"
   ]
  },
  {
   "cell_type": "code",
   "execution_count": 257,
   "id": "simplified-concert",
   "metadata": {},
   "outputs": [
    {
     "data": {
      "text/plain": [
       "count      5000.000000\n",
       "mean       3145.128000\n",
       "std       41282.539349\n",
       "min          90.000000\n",
       "25%         163.000000\n",
       "50%         284.000000\n",
       "75%         390.000000\n",
       "max      704000.000000\n",
       "Name: order_amount, dtype: float64"
      ]
     },
     "execution_count": 257,
     "metadata": {},
     "output_type": "execute_result"
    }
   ],
   "source": [
    "# Lets take a quick look at order_amounts to figure out\n",
    "shoe_df['order_amount'].describe()"
   ]
  },
  {
   "cell_type": "markdown",
   "id": "rising-setup",
   "metadata": {},
   "source": [
    "#### Problem:\n",
    "Standard deviation is 41282 where min is only 90 and max is 70400.\n",
    "Max value needs to be inspected in order to evaluate the data more accurately. Lets see how the data looks like in boxplot"
   ]
  },
  {
   "cell_type": "code",
   "execution_count": 258,
   "id": "falling-singing",
   "metadata": {},
   "outputs": [
    {
     "data": {
      "text/plain": [
       "<AxesSubplot:>"
      ]
     },
     "execution_count": 258,
     "metadata": {},
     "output_type": "execute_result"
    },
    {
     "data": {
      "image/png": "[encoded data removed]",
      "text/plain": [
       "<Figure size 720x360 with 1 Axes>"
      ]
     },
     "metadata": {
      "needs_background": "light"
     },
     "output_type": "display_data"
    }
   ],
   "source": [
    "shoe_df.boxplot(\"order_amount\", figsize=(10,5))"
   ]
  },
  {
   "cell_type": "markdown",
   "id": "warming-lesbian",
   "metadata": {},
   "source": [
    "It seems like order amount $70400 is the only extreme sale in this dataset. We can calculate outliers to get a better understanding of the set.\n"
   ]
  },
  {
   "cell_type": "code",
   "execution_count": 259,
   "id": "nominated-beaver",
   "metadata": {
    "scrolled": true
   },
   "outputs": [
    {
     "data": {
      "text/html": [
       "<div>\n",
       "<style scoped>\n",
       "    .dataframe tbody tr th:only-of-type {\n",
       "        vertical-align: middle;\n",
       "    }\n",
       "\n",
       "    .dataframe tbody tr th {\n",
       "        vertical-align: top;\n",
       "    }\n",
       "\n",
       "    .dataframe thead th {\n",
       "        text-align: right;\n",
       "    }\n",
       "</style>\n",
       "<table border=\"1\" class=\"dataframe\">\n",
       "  <thead>\n",
       "    <tr style=\"text-align: right;\">\n",
       "      <th></th>\n",
       "      <th>order_id</th>\n",
       "      <th>shop_id</th>\n",
       "      <th>user_id</th>\n",
       "      <th>order_amount</th>\n",
       "      <th>total_items</th>\n",
       "      <th>payment_method</th>\n",
       "      <th>created_at</th>\n",
       "      <th>item_price</th>\n",
       "    </tr>\n",
       "  </thead>\n",
       "  <tbody>\n",
       "    <tr>\n",
       "      <th>0</th>\n",
       "      <td>1</td>\n",
       "      <td>53</td>\n",
       "      <td>746</td>\n",
       "      <td>224</td>\n",
       "      <td>2</td>\n",
       "      <td>cash</td>\n",
       "      <td>2017-03-13 12:36:56</td>\n",
       "      <td>112.0</td>\n",
       "    </tr>\n",
       "    <tr>\n",
       "      <th>1</th>\n",
       "      <td>2</td>\n",
       "      <td>92</td>\n",
       "      <td>925</td>\n",
       "      <td>90</td>\n",
       "      <td>1</td>\n",
       "      <td>cash</td>\n",
       "      <td>2017-03-03 17:38:52</td>\n",
       "      <td>90.0</td>\n",
       "    </tr>\n",
       "    <tr>\n",
       "      <th>2</th>\n",
       "      <td>3</td>\n",
       "      <td>44</td>\n",
       "      <td>861</td>\n",
       "      <td>144</td>\n",
       "      <td>1</td>\n",
       "      <td>cash</td>\n",
       "      <td>2017-03-14 04:23:56</td>\n",
       "      <td>144.0</td>\n",
       "    </tr>\n",
       "    <tr>\n",
       "      <th>3</th>\n",
       "      <td>4</td>\n",
       "      <td>18</td>\n",
       "      <td>935</td>\n",
       "      <td>156</td>\n",
       "      <td>1</td>\n",
       "      <td>credit_card</td>\n",
       "      <td>2017-03-26 12:43:37</td>\n",
       "      <td>156.0</td>\n",
       "    </tr>\n",
       "    <tr>\n",
       "      <th>4</th>\n",
       "      <td>5</td>\n",
       "      <td>18</td>\n",
       "      <td>883</td>\n",
       "      <td>156</td>\n",
       "      <td>1</td>\n",
       "      <td>credit_card</td>\n",
       "      <td>2017-03-01 04:35:11</td>\n",
       "      <td>156.0</td>\n",
       "    </tr>\n",
       "  </tbody>\n",
       "</table>\n",
       "</div>"
      ],
      "text/plain": [
       "   order_id  shop_id  user_id  order_amount  total_items payment_method  \\\n",
       "0         1       53      746           224            2           cash   \n",
       "1         2       92      925            90            1           cash   \n",
       "2         3       44      861           144            1           cash   \n",
       "3         4       18      935           156            1    credit_card   \n",
       "4         5       18      883           156            1    credit_card   \n",
       "\n",
       "           created_at  item_price  \n",
       "0 2017-03-13 12:36:56       112.0  \n",
       "1 2017-03-03 17:38:52        90.0  \n",
       "2 2017-03-14 04:23:56       144.0  \n",
       "3 2017-03-26 12:43:37       156.0  \n",
       "4 2017-03-01 04:35:11       156.0  "
      ]
     },
     "execution_count": 259,
     "metadata": {},
     "output_type": "execute_result"
    }
   ],
   "source": [
    "shoe_df['item_price'] = shoe_df['order_amount']/shoe_df['total_items']\n",
    "shoe_df.head()"
   ]
  },
  {
   "cell_type": "markdown",
   "id": "coordinated-ferry",
   "metadata": {},
   "source": [
    "#### Inspect the outliers"
   ]
  },
  {
   "cell_type": "code",
   "execution_count": 260,
   "id": "auburn-marketing",
   "metadata": {},
   "outputs": [
    {
     "name": "stdout",
     "output_type": "stream",
     "text": [
      "The lower quartile of item price is: 133.0\n",
      "The upper quartile of item price is: 169.0\n",
      "The interquartile range of item price is: 36.0\n",
      "The the median of item price is: 153.0 \n",
      "Values below 79.0 could be outliers.\n",
      "Values above 223.0 could be outliers.\n"
     ]
    },
    {
     "data": {
      "text/html": [
       "<div>\n",
       "<style scoped>\n",
       "    .dataframe tbody tr th:only-of-type {\n",
       "        vertical-align: middle;\n",
       "    }\n",
       "\n",
       "    .dataframe tbody tr th {\n",
       "        vertical-align: top;\n",
       "    }\n",
       "\n",
       "    .dataframe thead th {\n",
       "        text-align: right;\n",
       "    }\n",
       "</style>\n",
       "<table border=\"1\" class=\"dataframe\">\n",
       "  <thead>\n",
       "    <tr style=\"text-align: right;\">\n",
       "      <th></th>\n",
       "      <th>order_id</th>\n",
       "      <th>shop_id</th>\n",
       "      <th>user_id</th>\n",
       "      <th>order_amount</th>\n",
       "      <th>total_items</th>\n",
       "      <th>payment_method</th>\n",
       "      <th>created_at</th>\n",
       "      <th>item_price</th>\n",
       "    </tr>\n",
       "  </thead>\n",
       "  <tbody>\n",
       "    <tr>\n",
       "      <th>0</th>\n",
       "      <td>16</td>\n",
       "      <td>42</td>\n",
       "      <td>607</td>\n",
       "      <td>704000</td>\n",
       "      <td>2000</td>\n",
       "      <td>credit_card</td>\n",
       "      <td>2017-03-07 04:00:00</td>\n",
       "      <td>352.0</td>\n",
       "    </tr>\n",
       "    <tr>\n",
       "      <th>1</th>\n",
       "      <td>41</td>\n",
       "      <td>42</td>\n",
       "      <td>793</td>\n",
       "      <td>352</td>\n",
       "      <td>1</td>\n",
       "      <td>credit_card</td>\n",
       "      <td>2017-03-24 14:15:41</td>\n",
       "      <td>352.0</td>\n",
       "    </tr>\n",
       "    <tr>\n",
       "      <th>2</th>\n",
       "      <td>61</td>\n",
       "      <td>42</td>\n",
       "      <td>607</td>\n",
       "      <td>704000</td>\n",
       "      <td>2000</td>\n",
       "      <td>credit_card</td>\n",
       "      <td>2017-03-04 04:00:00</td>\n",
       "      <td>352.0</td>\n",
       "    </tr>\n",
       "    <tr>\n",
       "      <th>3</th>\n",
       "      <td>161</td>\n",
       "      <td>78</td>\n",
       "      <td>990</td>\n",
       "      <td>25725</td>\n",
       "      <td>1</td>\n",
       "      <td>credit_card</td>\n",
       "      <td>2017-03-12 05:56:57</td>\n",
       "      <td>25725.0</td>\n",
       "    </tr>\n",
       "    <tr>\n",
       "      <th>4</th>\n",
       "      <td>309</td>\n",
       "      <td>42</td>\n",
       "      <td>770</td>\n",
       "      <td>352</td>\n",
       "      <td>1</td>\n",
       "      <td>credit_card</td>\n",
       "      <td>2017-03-11 18:14:39</td>\n",
       "      <td>352.0</td>\n",
       "    </tr>\n",
       "    <tr>\n",
       "      <th>...</th>\n",
       "      <td>...</td>\n",
       "      <td>...</td>\n",
       "      <td>...</td>\n",
       "      <td>...</td>\n",
       "      <td>...</td>\n",
       "      <td>...</td>\n",
       "      <td>...</td>\n",
       "      <td>...</td>\n",
       "    </tr>\n",
       "    <tr>\n",
       "      <th>92</th>\n",
       "      <td>4746</td>\n",
       "      <td>42</td>\n",
       "      <td>872</td>\n",
       "      <td>352</td>\n",
       "      <td>1</td>\n",
       "      <td>debit</td>\n",
       "      <td>2017-03-24 00:57:24</td>\n",
       "      <td>352.0</td>\n",
       "    </tr>\n",
       "    <tr>\n",
       "      <th>93</th>\n",
       "      <td>4768</td>\n",
       "      <td>42</td>\n",
       "      <td>720</td>\n",
       "      <td>704</td>\n",
       "      <td>2</td>\n",
       "      <td>credit_card</td>\n",
       "      <td>2017-03-14 10:26:08</td>\n",
       "      <td>352.0</td>\n",
       "    </tr>\n",
       "    <tr>\n",
       "      <th>94</th>\n",
       "      <td>4869</td>\n",
       "      <td>42</td>\n",
       "      <td>607</td>\n",
       "      <td>704000</td>\n",
       "      <td>2000</td>\n",
       "      <td>credit_card</td>\n",
       "      <td>2017-03-22 04:00:00</td>\n",
       "      <td>352.0</td>\n",
       "    </tr>\n",
       "    <tr>\n",
       "      <th>95</th>\n",
       "      <td>4883</td>\n",
       "      <td>42</td>\n",
       "      <td>607</td>\n",
       "      <td>704000</td>\n",
       "      <td>2000</td>\n",
       "      <td>credit_card</td>\n",
       "      <td>2017-03-25 04:00:00</td>\n",
       "      <td>352.0</td>\n",
       "    </tr>\n",
       "    <tr>\n",
       "      <th>96</th>\n",
       "      <td>4919</td>\n",
       "      <td>78</td>\n",
       "      <td>823</td>\n",
       "      <td>25725</td>\n",
       "      <td>1</td>\n",
       "      <td>cash</td>\n",
       "      <td>2017-03-15 13:26:46</td>\n",
       "      <td>25725.0</td>\n",
       "    </tr>\n",
       "  </tbody>\n",
       "</table>\n",
       "<p>97 rows × 8 columns</p>\n",
       "</div>"
      ],
      "text/plain": [
       "    order_id  shop_id  user_id  order_amount  total_items payment_method  \\\n",
       "0         16       42      607        704000         2000    credit_card   \n",
       "1         41       42      793           352            1    credit_card   \n",
       "2         61       42      607        704000         2000    credit_card   \n",
       "3        161       78      990         25725            1    credit_card   \n",
       "4        309       42      770           352            1    credit_card   \n",
       "..       ...      ...      ...           ...          ...            ...   \n",
       "92      4746       42      872           352            1          debit   \n",
       "93      4768       42      720           704            2    credit_card   \n",
       "94      4869       42      607        704000         2000    credit_card   \n",
       "95      4883       42      607        704000         2000    credit_card   \n",
       "96      4919       78      823         25725            1           cash   \n",
       "\n",
       "            created_at  item_price  \n",
       "0  2017-03-07 04:00:00       352.0  \n",
       "1  2017-03-24 14:15:41       352.0  \n",
       "2  2017-03-04 04:00:00       352.0  \n",
       "3  2017-03-12 05:56:57     25725.0  \n",
       "4  2017-03-11 18:14:39       352.0  \n",
       "..                 ...         ...  \n",
       "92 2017-03-24 00:57:24       352.0  \n",
       "93 2017-03-14 10:26:08       352.0  \n",
       "94 2017-03-22 04:00:00       352.0  \n",
       "95 2017-03-25 04:00:00       352.0  \n",
       "96 2017-03-15 13:26:46     25725.0  \n",
       "\n",
       "[97 rows x 8 columns]"
      ]
     },
     "execution_count": 260,
     "metadata": {},
     "output_type": "execute_result"
    }
   ],
   "source": [
    "# Determine if there are any potential outliers in average order_amount\n",
    "quartiles = shoe_df['item_price'].quantile([.25,.5,.75])\n",
    "lowerq = quartiles[0.25]\n",
    "upperq = quartiles[0.75]\n",
    "iqr = upperq-lowerq\n",
    "\n",
    "print(f\"The lower quartile of item price is: {lowerq}\")\n",
    "print(f\"The upper quartile of item price is: {upperq}\")\n",
    "print(f\"The interquartile range of item price is: {iqr}\")\n",
    "print(f\"The the median of item price is: {quartiles[0.5]} \")\n",
    "\n",
    "lower_bound = lowerq - (1.5*iqr)\n",
    "upper_bound = upperq + (1.5*iqr)\n",
    "print(f\"Values below {lower_bound} could be outliers.\")\n",
    "print(f\"Values above {upper_bound} could be outliers.\")\n",
    "\n",
    "outlier_order = shoe_df.loc[(shoe_df['item_price'] < lower_bound) | \n",
    "                                        (shoe_df['item_price'] > upper_bound)]\n",
    "outlier_order = outlier_order.reset_index(drop=True)\n",
    "outlier_order"
   ]
  },
  {
   "cell_type": "code",
   "execution_count": 261,
   "id": "compatible-indicator",
   "metadata": {},
   "outputs": [
    {
     "data": {
      "image/png": "[encoded data removed]",
      "text/plain": [
       "<Figure size 432x288 with 2 Axes>"
      ]
     },
     "metadata": {
      "needs_background": "light"
     },
     "output_type": "display_data"
    },
    {
     "data": {
      "image/png": "[encoded data removed]",
      "text/plain": [
       "<Figure size 432x288 with 1 Axes>"
      ]
     },
     "metadata": {
      "needs_background": "light"
     },
     "output_type": "display_data"
    }
   ],
   "source": [
    "#outlier_shops = shoe_df.loc[(shoe_df['shop_id']==\"42\") | (shoe_df['shop_id']==\"78\")]\n",
    "plt.scatter(outlier_order['order_amount'],outlier_order['created_at'],\n",
    "c=outlier_order['item_price'])\n",
    "clb = plt.colorbar()\n",
    "plt.xlabel(\"Order Amount\")\n",
    "plt.ylabel(\"Date\")\n",
    "plt.xticks(rotation=90)\n",
    "clb.set_label(\"Item Price\")\n",
    "plt.show()\n",
    "\n",
    "# Determine if the average item price is normally distributed\n",
    "plt.hist(outlier_order['item_price'])\n",
    "plt.xlabel('Averge Price per Sneaker')\n",
    "plt.xticks(rotation=90)\n",
    "plt.ylabel('Counts')\n",
    "plt.show()\n"
   ]
  },
  {
   "cell_type": "markdown",
   "id": "available-venture",
   "metadata": {},
   "source": [
    "- We have 97 outlier orders.\n",
    "- 352 and 25725 orders belongs to shop 42 and 78 respectively so 78 is obviously is an outlier.\n",
    "- The shop_id 78 and user_id 607 rides AOV extremely higher points. This issue might be an incorrect pricing, a fraud, location based issues (foreign currency or country taxes), etc. Therefore these store_id 78's operations must be investigated.\n",
    "- Unknown timeframe of User_id 607's automated bulk orders timed at 04:00 am is also skews the data."
   ]
  },
  {
   "cell_type": "code",
   "execution_count": 262,
   "id": "military-title",
   "metadata": {},
   "outputs": [
    {
     "data": {
      "text/plain": [
       "order_id  shop_id  user_id  order_amount  total_items  payment_method  created_at           item_price\n",
       "4883      42       607      704000        2000         credit_card     2017-03-25 04:00:00  352.0         1\n",
       "1603      42       607      704000        2000         credit_card     2017-03-17 04:00:00  352.0         1\n",
       "61        42       607      704000        2000         credit_card     2017-03-04 04:00:00  352.0         1\n",
       "521       42       607      704000        2000         credit_card     2017-03-02 04:00:00  352.0         1\n",
       "1105      42       607      704000        2000         credit_card     2017-03-24 04:00:00  352.0         1\n",
       "dtype: int64"
      ]
     },
     "execution_count": 262,
     "metadata": {},
     "output_type": "execute_result"
    }
   ],
   "source": [
    "outlier_shops = shoe_df.loc[(shoe_df['user_id'] == 607) ]\n",
    "outlier_shops.sort_values(['created_at']).value_counts().head()"
   ]
  },
  {
   "cell_type": "code",
   "execution_count": 263,
   "id": "acute-crowd",
   "metadata": {},
   "outputs": [
    {
     "data": {
      "text/plain": [
       "order_id  shop_id  user_id  order_amount  total_items  payment_method  created_at           item_price\n",
       "4919      78       823      25725         1            cash            2017-03-15 13:26:46  25725.0       1\n",
       "1420      78       912      25725         1            cash            2017-03-30 12:23:43  25725.0       1\n",
       "2565      78       915      77175         3            debit           2017-03-25 01:19:35  25725.0       1\n",
       "2549      78       861      25725         1            cash            2017-03-17 19:36:00  25725.0       1\n",
       "2513      78       935      51450         2            debit           2017-03-18 18:57:13  25725.0       1\n",
       "dtype: int64"
      ]
     },
     "execution_count": 263,
     "metadata": {},
     "output_type": "execute_result"
    }
   ],
   "source": [
    "outlier_shops = shoe_df.loc[(shoe_df['shop_id'] == 78) ]\n",
    "outlier_shops.sort_values(['created_at']).value_counts().head()"
   ]
  },
  {
   "cell_type": "code",
   "execution_count": 264,
   "id": "judicial-destruction",
   "metadata": {},
   "outputs": [
    {
     "name": "stdout",
     "output_type": "stream",
     "text": [
      "count    4903.000000\n",
      "mean      300.155823\n",
      "std       155.941112\n",
      "min        90.000000\n",
      "25%       163.000000\n",
      "50%       284.000000\n",
      "75%       386.500000\n",
      "max      1086.000000\n",
      "Name: order_amount, dtype: float64\n",
      "Outlier free data Median: 284.0\n"
     ]
    },
    {
     "data": {
      "text/plain": [
       "<AxesSubplot:>"
      ]
     },
     "execution_count": 264,
     "metadata": {},
     "output_type": "execute_result"
    },
    {
     "data": {
      "image/png": "[encoded data removed]",
      "text/plain": [
       "<Figure size 432x288 with 1 Axes>"
      ]
     },
     "metadata": {
      "needs_background": "light"
     },
     "output_type": "display_data"
    }
   ],
   "source": [
    "# Outlier free dataset\n",
    "cleana_df = shoe_df.drop(shoe_df[(shoe_df.item_price < lower_bound) | (shoe_df.item_price > upper_bound)].index)\n",
    "cleana_df = cleana_df.reset_index(drop=True)\n",
    "print(cleana_df['order_amount'].describe())\n",
    "print('Outlier free data Median:',cleana_df['order_amount'].median())\n",
    "cleana_df.boxplot(\"item_price\")"
   ]
  },
  {
   "cell_type": "code",
   "execution_count": null,
   "id": "fifty-danish",
   "metadata": {},
   "outputs": [],
   "source": []
  },
  {
   "cell_type": "code",
   "execution_count": 265,
   "id": "parental-triangle",
   "metadata": {},
   "outputs": [
    {
     "name": "stdout",
     "output_type": "stream",
     "text": [
      "count      4954.000000\n",
      "mean       2717.367784\n",
      "std       41155.996469\n",
      "min          90.000000\n",
      "25%         163.000000\n",
      "50%         284.000000\n",
      "75%         390.000000\n",
      "max      704000.000000\n",
      "Name: order_amount, dtype: float64\n",
      "Extreme Outliers free data Median: 284.0\n"
     ]
    },
    {
     "data": {
      "text/plain": [
       "<function matplotlib.pyplot.show(close=None, block=None)>"
      ]
     },
     "execution_count": 265,
     "metadata": {},
     "output_type": "execute_result"
    },
    {
     "data": {
      "image/png": "[encoded data removed]",
      "text/plain": [
       "<Figure size 720x360 with 1 Axes>"
      ]
     },
     "metadata": {
      "needs_background": "light"
     },
     "output_type": "display_data"
    }
   ],
   "source": [
    "clean_df = shoe_df.drop(shoe_df[(shoe_df.shop_id == 78)].index)\n",
    "clean_df = clean_df.reset_index(drop=True)\n",
    "print(clean_df['order_amount'].describe())\n",
    "print('Extreme Outliers free data Median:',clean_df['order_amount'].median())\n",
    "\n",
    "clean_df.boxplot(\"item_price\", figsize=(10,5))\n",
    "plt.show"
   ]
  },
  {
   "cell_type": "code",
   "execution_count": 266,
   "id": "racial-announcement",
   "metadata": {},
   "outputs": [
    {
     "name": "stdout",
     "output_type": "stream",
     "text": [
      "count     5000.000000\n",
      "mean       387.742800\n",
      "std       2441.963725\n",
      "min         90.000000\n",
      "25%        133.000000\n",
      "50%        153.000000\n",
      "75%        169.000000\n",
      "max      25725.000000\n",
      "Name: item_price, dtype: float64 count    4954.000000\n",
      "mean      152.475575\n",
      "std        31.260218\n",
      "min        90.000000\n",
      "25%       132.000000\n",
      "50%       153.000000\n",
      "75%       168.000000\n",
      "max       352.000000\n",
      "Name: item_price, dtype: float64\n"
     ]
    }
   ],
   "source": [
    "print(shoe_df['item_price'].describe(),clean_df['item_price'].describe())"
   ]
  },
  {
   "cell_type": "markdown",
   "id": "stopped-colonial",
   "metadata": {},
   "source": [
    "Pricing metric and strategies vary as the numbers and these numbers seems in a good shape to get better AOV.\n",
    "Deeper analytics from this dataset might include:\n",
    "- Top and bottom performing stores\n",
    "- Foot traffic\n",
    "- Most valuable customers\n",
    "- Order type categorization"
   ]
  },
  {
   "cell_type": "code",
   "execution_count": 267,
   "id": "polyphonic-polish",
   "metadata": {},
   "outputs": [
    {
     "name": "stdout",
     "output_type": "stream",
     "text": [
      "Shopfiy AOV: 3145.128\n",
      "Better AOV: 2717.3677836092047\n",
      "Median 284.0\n"
     ]
    }
   ],
   "source": [
    "shopify_AOV = shoe_df['order_amount'].sum() / shoe_df['order_amount'].count()\n",
    "better_AOV = clean_df['order_amount'].sum() / clean_df['order_amount'].count()\n",
    "print('Shopfiy AOV:',shopify_AOV)\n",
    "print('Better AOV:',better_AOV)\n",
    "print('Median',clean_df['order_amount'].median())"
   ]
  },
  {
   "cell_type": "markdown",
   "id": "biblical-mediterranean",
   "metadata": {},
   "source": [
    "### Question 2:\n",
    "2a: How many orders were shipped by Speedy Express in total?\n",
    "Answer: 54 orders shipped by Speedy Express\n",
    "```sql\n",
    "SELECT COUNT(ShipperName)\n",
    "FROM Orders INNER JOIN Shippers ON Orders.ShipperID = Shippers.ShipperID\n",
    "WHERE ShipperName = 'Speedy Express';\n",
    "```\n",
    "\n",
    "2b: What is the last name of the employee with the most orders?\n",
    "Answer: Peacock\n",
    "```sql\n",
    "SELECT Employees.LastName, COUNT(Employees.EmployeeID) as order_count\n",
    "FROM Employees INNER JOIN Orders ON Orders.EmployeeID = Employees.EmployeeID\n",
    "GROUP BY LastName\n",
    "ORDER BY Count(Employees.LastName) DESC\n",
    "LIMIT 1;\n",
    "```\n",
    "\n",
    "2c:What product was ordered the most by customers in Germany?\n",
    "Answer: \n",
    "Boston Crab Meat\t160\n",
    "Gorgonzola Telino\t125\n",
    "Tunnbröd\t105\n",
    "```sql\n",
    "SELECT  Products.ProductName, SUM(OrderDetails.Quantity)\n",
    "FROM ((Customers INNER JOIN Orders ON Customers.CustomerID = Orders.CustomerID)\n",
    "\t\tINNER JOIN OrderDetails ON Orders.OrderID = OrderDetails.OrderID)\n",
    "\t\tINNER JOIN Products ON OrderDetails.ProductID = Products.ProductID\n",
    "WHERE Customers.Country = 'Germany'\n",
    "GROUP BY Products.ProductName\n",
    "ORDER BY SUM(OrderDetails.Quantity) DESC;\n",
    "```\n",
    "\n",
    "\n"
   ]
  },
  {
   "cell_type": "code",
   "execution_count": null,
   "id": "strong-commerce",
   "metadata": {},
   "outputs": [],
   "source": []
  }
 ],
 "metadata": {
  "kernelspec": {
   "display_name": "Python 3",
   "language": "python",
   "name": "python3"
  },
  "language_info": {
   "codemirror_mode": {
    "name": "ipython",
    "version": 3
   },
   "file_extension": ".py",
   "mimetype": "text/x-python",
   "name": "python",
   "nbconvert_exporter": "python",
   "pygments_lexer": "ipython3",
   "version": "3.6.10"
  }
 },
 "nbformat": 4,
 "nbformat_minor": 5
}
