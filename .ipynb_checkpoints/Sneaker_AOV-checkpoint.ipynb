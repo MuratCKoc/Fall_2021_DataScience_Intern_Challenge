{
 "cells": [
  {
   "cell_type": "markdown",
   "id": "signal-director",
   "metadata": {},
   "source": [
    "### Author: Murat C Koc\n",
    "### Objective: Calculate Shopify Sneaker Stores AOV\n",
    "### Challenge: Shopify Data Science Internship - Fall 2021\n",
    "\n",
    "#### Question 1:\n",
    "On Shopify, we have exactly 100 sneaker shops, and each of these shops sells only one model of shoe. We want to do some analysis of the average order value (AOV). When we look at orders data over a 30 day window, we naively calculate an AOV of $3145.13. Given that we know these shops are selling sneakers, a relatively affordable item, something seems wrong with our analysis. \n",
    "\n",
    "- Think about what could be going wrong with our calculation. Think about a better way to evaluate this data. \n",
    "- What metric would you report for this dataset?\n",
    "- What is its value?\n",
    "\n",
    "#### Solution:\n",
    "#### Step 1:\n",
    "- Check data quality, make necessary changes\n",
    "#### Step 2:\n",
    "- Check outliers for better analysis"
   ]
  },
  {
   "cell_type": "code",
   "execution_count": 137,
   "id": "educational-extraction",
   "metadata": {},
   "outputs": [],
   "source": [
    "# Libraries\n",
    "import pandas as pd\n",
    "from pandas import datetime\n",
    "import matplotlib.pyplot as plt\n",
    "import numpy as np\n",
    "import seaborn as sns\n",
    "from fbprophet import Prophet"
   ]
  },
  {
   "cell_type": "code",
   "execution_count": 138,
   "id": "popular-above",
   "metadata": {},
   "outputs": [
    {
     "data": {
      "text/html": [
       "<div>\n",
       "<style scoped>\n",
       "    .dataframe tbody tr th:only-of-type {\n",
       "        vertical-align: middle;\n",
       "    }\n",
       "\n",
       "    .dataframe tbody tr th {\n",
       "        vertical-align: top;\n",
       "    }\n",
       "\n",
       "    .dataframe thead th {\n",
       "        text-align: right;\n",
       "    }\n",
       "</style>\n",
       "<table border=\"1\" class=\"dataframe\">\n",
       "  <thead>\n",
       "    <tr style=\"text-align: right;\">\n",
       "      <th></th>\n",
       "      <th>order_id</th>\n",
       "      <th>shop_id</th>\n",
       "      <th>user_id</th>\n",
       "      <th>order_amount</th>\n",
       "      <th>total_items</th>\n",
       "      <th>payment_method</th>\n",
       "      <th>created_at</th>\n",
       "    </tr>\n",
       "  </thead>\n",
       "  <tbody>\n",
       "    <tr>\n",
       "      <th>0</th>\n",
       "      <td>1</td>\n",
       "      <td>53</td>\n",
       "      <td>746</td>\n",
       "      <td>224</td>\n",
       "      <td>2</td>\n",
       "      <td>cash</td>\n",
       "      <td>2017-03-13 12:36:56</td>\n",
       "    </tr>\n",
       "    <tr>\n",
       "      <th>1</th>\n",
       "      <td>2</td>\n",
       "      <td>92</td>\n",
       "      <td>925</td>\n",
       "      <td>90</td>\n",
       "      <td>1</td>\n",
       "      <td>cash</td>\n",
       "      <td>2017-03-03 17:38:52</td>\n",
       "    </tr>\n",
       "    <tr>\n",
       "      <th>2</th>\n",
       "      <td>3</td>\n",
       "      <td>44</td>\n",
       "      <td>861</td>\n",
       "      <td>144</td>\n",
       "      <td>1</td>\n",
       "      <td>cash</td>\n",
       "      <td>2017-03-14 4:23:56</td>\n",
       "    </tr>\n",
       "    <tr>\n",
       "      <th>3</th>\n",
       "      <td>4</td>\n",
       "      <td>18</td>\n",
       "      <td>935</td>\n",
       "      <td>156</td>\n",
       "      <td>1</td>\n",
       "      <td>credit_card</td>\n",
       "      <td>2017-03-26 12:43:37</td>\n",
       "    </tr>\n",
       "    <tr>\n",
       "      <th>4</th>\n",
       "      <td>5</td>\n",
       "      <td>18</td>\n",
       "      <td>883</td>\n",
       "      <td>156</td>\n",
       "      <td>1</td>\n",
       "      <td>credit_card</td>\n",
       "      <td>2017-03-01 4:35:11</td>\n",
       "    </tr>\n",
       "  </tbody>\n",
       "</table>\n",
       "</div>"
      ],
      "text/plain": [
       "   order_id  shop_id  user_id  order_amount  total_items payment_method  \\\n",
       "0         1       53      746           224            2           cash   \n",
       "1         2       92      925            90            1           cash   \n",
       "2         3       44      861           144            1           cash   \n",
       "3         4       18      935           156            1    credit_card   \n",
       "4         5       18      883           156            1    credit_card   \n",
       "\n",
       "            created_at  \n",
       "0  2017-03-13 12:36:56  \n",
       "1  2017-03-03 17:38:52  \n",
       "2   2017-03-14 4:23:56  \n",
       "3  2017-03-26 12:43:37  \n",
       "4   2017-03-01 4:35:11  "
      ]
     },
     "execution_count": 138,
     "metadata": {},
     "output_type": "execute_result"
    }
   ],
   "source": [
    "# Read csv into Dataframe\n",
    "shoe_df = pd.read_csv('https://raw.githubusercontent.com/MuratCKoc/Fall_2021_DataScience_Intern_Challenge/main/data/shopify_sneakers.csv')\n",
    "shoe_df.head()"
   ]
  },
  {
   "cell_type": "markdown",
   "id": "initial-austria",
   "metadata": {},
   "source": [
    "#### Step 1: Check data quality"
   ]
  },
  {
   "cell_type": "code",
   "execution_count": 139,
   "id": "transparent-mistake",
   "metadata": {},
   "outputs": [
    {
     "name": "stdout",
     "output_type": "stream",
     "text": [
      "Null check passed! No Null values Detected\n"
     ]
    }
   ],
   "source": [
    "# Check Null values\n",
    "if shoe_df.isnull().values.any() == 'False':\n",
    "    print('NULL DETECTED... Dropping the Nulls')\n",
    "    shoe_df = shoe_df.dropna(how='any')\n",
    "else:\n",
    "    print('Null check passed! No Null values Detected')"
   ]
  },
  {
   "cell_type": "code",
   "execution_count": 140,
   "id": "protecting-assets",
   "metadata": {},
   "outputs": [
    {
     "data": {
      "text/plain": [
       "0       False\n",
       "1       False\n",
       "2       False\n",
       "3       False\n",
       "4       False\n",
       "        ...  \n",
       "4995    False\n",
       "4996    False\n",
       "4997    False\n",
       "4998    False\n",
       "4999    False\n",
       "Length: 5000, dtype: bool"
      ]
     },
     "execution_count": 140,
     "metadata": {},
     "output_type": "execute_result"
    }
   ],
   "source": [
    "# Check duplicate entries\n",
    "shoe_df.duplicated(keep='last')"
   ]
  },
  {
   "cell_type": "code",
   "execution_count": 141,
   "id": "representative-currency",
   "metadata": {},
   "outputs": [
    {
     "data": {
      "text/plain": [
       "order_id           int64\n",
       "shop_id            int64\n",
       "user_id            int64\n",
       "order_amount       int64\n",
       "total_items        int64\n",
       "payment_method    object\n",
       "created_at        object\n",
       "dtype: object"
      ]
     },
     "execution_count": 141,
     "metadata": {},
     "output_type": "execute_result"
    }
   ],
   "source": [
    "# Check Data types\n",
    "shoe_df.dtypes"
   ]
  },
  {
   "cell_type": "code",
   "execution_count": 142,
   "id": "complimentary-handle",
   "metadata": {},
   "outputs": [
    {
     "data": {
      "text/plain": [
       "order_id                   int64\n",
       "shop_id                    int64\n",
       "user_id                    int64\n",
       "order_amount               int64\n",
       "total_items                int64\n",
       "payment_method            object\n",
       "created_at        datetime64[ns]\n",
       "dtype: object"
      ]
     },
     "execution_count": 142,
     "metadata": {},
     "output_type": "execute_result"
    }
   ],
   "source": [
    "# Convert date types -> created_at\n",
    "shoe_df['created_at'] = pd.to_datetime(shoe_df['created_at'])\n",
    "shoe_df.dtypes"
   ]
  },
  {
   "cell_type": "markdown",
   "id": "searching-general",
   "metadata": {},
   "source": [
    "#### Step 2: Explore the data"
   ]
  },
  {
   "cell_type": "code",
   "execution_count": 143,
   "id": "dedicated-annex",
   "metadata": {},
   "outputs": [
    {
     "data": {
      "text/html": [
       "<div>\n",
       "<style scoped>\n",
       "    .dataframe tbody tr th:only-of-type {\n",
       "        vertical-align: middle;\n",
       "    }\n",
       "\n",
       "    .dataframe tbody tr th {\n",
       "        vertical-align: top;\n",
       "    }\n",
       "\n",
       "    .dataframe thead th {\n",
       "        text-align: right;\n",
       "    }\n",
       "</style>\n",
       "<table border=\"1\" class=\"dataframe\">\n",
       "  <thead>\n",
       "    <tr style=\"text-align: right;\">\n",
       "      <th></th>\n",
       "      <th>order_id</th>\n",
       "      <th>shop_id</th>\n",
       "      <th>user_id</th>\n",
       "      <th>order_amount</th>\n",
       "      <th>total_items</th>\n",
       "    </tr>\n",
       "  </thead>\n",
       "  <tbody>\n",
       "    <tr>\n",
       "      <th>count</th>\n",
       "      <td>5000.000000</td>\n",
       "      <td>5000.000000</td>\n",
       "      <td>5000.000000</td>\n",
       "      <td>5000.000000</td>\n",
       "      <td>5000.00000</td>\n",
       "    </tr>\n",
       "    <tr>\n",
       "      <th>mean</th>\n",
       "      <td>2500.500000</td>\n",
       "      <td>50.078800</td>\n",
       "      <td>849.092400</td>\n",
       "      <td>3145.128000</td>\n",
       "      <td>8.78720</td>\n",
       "    </tr>\n",
       "    <tr>\n",
       "      <th>std</th>\n",
       "      <td>1443.520003</td>\n",
       "      <td>29.006118</td>\n",
       "      <td>87.798982</td>\n",
       "      <td>41282.539349</td>\n",
       "      <td>116.32032</td>\n",
       "    </tr>\n",
       "    <tr>\n",
       "      <th>min</th>\n",
       "      <td>1.000000</td>\n",
       "      <td>1.000000</td>\n",
       "      <td>607.000000</td>\n",
       "      <td>90.000000</td>\n",
       "      <td>1.00000</td>\n",
       "    </tr>\n",
       "    <tr>\n",
       "      <th>25%</th>\n",
       "      <td>1250.750000</td>\n",
       "      <td>24.000000</td>\n",
       "      <td>775.000000</td>\n",
       "      <td>163.000000</td>\n",
       "      <td>1.00000</td>\n",
       "    </tr>\n",
       "    <tr>\n",
       "      <th>50%</th>\n",
       "      <td>2500.500000</td>\n",
       "      <td>50.000000</td>\n",
       "      <td>849.000000</td>\n",
       "      <td>284.000000</td>\n",
       "      <td>2.00000</td>\n",
       "    </tr>\n",
       "    <tr>\n",
       "      <th>75%</th>\n",
       "      <td>3750.250000</td>\n",
       "      <td>75.000000</td>\n",
       "      <td>925.000000</td>\n",
       "      <td>390.000000</td>\n",
       "      <td>3.00000</td>\n",
       "    </tr>\n",
       "    <tr>\n",
       "      <th>max</th>\n",
       "      <td>5000.000000</td>\n",
       "      <td>100.000000</td>\n",
       "      <td>999.000000</td>\n",
       "      <td>704000.000000</td>\n",
       "      <td>2000.00000</td>\n",
       "    </tr>\n",
       "  </tbody>\n",
       "</table>\n",
       "</div>"
      ],
      "text/plain": [
       "          order_id      shop_id      user_id   order_amount  total_items\n",
       "count  5000.000000  5000.000000  5000.000000    5000.000000   5000.00000\n",
       "mean   2500.500000    50.078800   849.092400    3145.128000      8.78720\n",
       "std    1443.520003    29.006118    87.798982   41282.539349    116.32032\n",
       "min       1.000000     1.000000   607.000000      90.000000      1.00000\n",
       "25%    1250.750000    24.000000   775.000000     163.000000      1.00000\n",
       "50%    2500.500000    50.000000   849.000000     284.000000      2.00000\n",
       "75%    3750.250000    75.000000   925.000000     390.000000      3.00000\n",
       "max    5000.000000   100.000000   999.000000  704000.000000   2000.00000"
      ]
     },
     "execution_count": 143,
     "metadata": {},
     "output_type": "execute_result"
    }
   ],
   "source": [
    "# Lets take a quick look at order_amounts to figure out\n",
    "shoe_df.describe()"
   ]
  },
  {
   "cell_type": "markdown",
   "id": "baking-territory",
   "metadata": {},
   "source": [
    "#### Problem:\n",
    "Standard deviation is 41282 where min is only 90 and max is 70400.\n",
    "Max value needs to be inspected in order to evaluate the data more accurately. Lets see how the data looks like in boxplot"
   ]
  },
  {
   "cell_type": "code",
   "execution_count": 144,
   "id": "computational-demographic",
   "metadata": {},
   "outputs": [
    {
     "data": {
      "text/plain": [
       "<AxesSubplot:>"
      ]
     },
     "execution_count": 144,
     "metadata": {},
     "output_type": "execute_result"
    },
    {
     "data": {
      "image/png": "[encoded data removed]",
      "text/plain": [
       "<Figure size 1440x720 with 1 Axes>"
      ]
     },
     "metadata": {
      "needs_background": "light"
     },
     "output_type": "display_data"
    }
   ],
   "source": [
    "shoe_df.boxplot(\"order_amount\", figsize=(20,10))"
   ]
  },
  {
   "cell_type": "markdown",
   "id": "seeing-accounting",
   "metadata": {},
   "source": [
    "It seems like order amount $70400 is the only extreme sale in this dataset. We can calculate outliers to get a better understanding of the set.\n"
   ]
  },
  {
   "cell_type": "code",
   "execution_count": 145,
   "id": "departmental-spirituality",
   "metadata": {
    "scrolled": true
   },
   "outputs": [
    {
     "data": {
      "text/html": [
       "<div>\n",
       "<style scoped>\n",
       "    .dataframe tbody tr th:only-of-type {\n",
       "        vertical-align: middle;\n",
       "    }\n",
       "\n",
       "    .dataframe tbody tr th {\n",
       "        vertical-align: top;\n",
       "    }\n",
       "\n",
       "    .dataframe thead th {\n",
       "        text-align: right;\n",
       "    }\n",
       "</style>\n",
       "<table border=\"1\" class=\"dataframe\">\n",
       "  <thead>\n",
       "    <tr style=\"text-align: right;\">\n",
       "      <th></th>\n",
       "      <th>order_id</th>\n",
       "      <th>shop_id</th>\n",
       "      <th>user_id</th>\n",
       "      <th>order_amount</th>\n",
       "      <th>total_items</th>\n",
       "      <th>payment_method</th>\n",
       "      <th>created_at</th>\n",
       "      <th>item_price</th>\n",
       "    </tr>\n",
       "  </thead>\n",
       "  <tbody>\n",
       "    <tr>\n",
       "      <th>0</th>\n",
       "      <td>1</td>\n",
       "      <td>53</td>\n",
       "      <td>746</td>\n",
       "      <td>224</td>\n",
       "      <td>2</td>\n",
       "      <td>cash</td>\n",
       "      <td>2017-03-13 12:36:56</td>\n",
       "      <td>112.0</td>\n",
       "    </tr>\n",
       "    <tr>\n",
       "      <th>1</th>\n",
       "      <td>2</td>\n",
       "      <td>92</td>\n",
       "      <td>925</td>\n",
       "      <td>90</td>\n",
       "      <td>1</td>\n",
       "      <td>cash</td>\n",
       "      <td>2017-03-03 17:38:52</td>\n",
       "      <td>90.0</td>\n",
       "    </tr>\n",
       "    <tr>\n",
       "      <th>2</th>\n",
       "      <td>3</td>\n",
       "      <td>44</td>\n",
       "      <td>861</td>\n",
       "      <td>144</td>\n",
       "      <td>1</td>\n",
       "      <td>cash</td>\n",
       "      <td>2017-03-14 04:23:56</td>\n",
       "      <td>144.0</td>\n",
       "    </tr>\n",
       "    <tr>\n",
       "      <th>3</th>\n",
       "      <td>4</td>\n",
       "      <td>18</td>\n",
       "      <td>935</td>\n",
       "      <td>156</td>\n",
       "      <td>1</td>\n",
       "      <td>credit_card</td>\n",
       "      <td>2017-03-26 12:43:37</td>\n",
       "      <td>156.0</td>\n",
       "    </tr>\n",
       "    <tr>\n",
       "      <th>4</th>\n",
       "      <td>5</td>\n",
       "      <td>18</td>\n",
       "      <td>883</td>\n",
       "      <td>156</td>\n",
       "      <td>1</td>\n",
       "      <td>credit_card</td>\n",
       "      <td>2017-03-01 04:35:11</td>\n",
       "      <td>156.0</td>\n",
       "    </tr>\n",
       "  </tbody>\n",
       "</table>\n",
       "</div>"
      ],
      "text/plain": [
       "   order_id  shop_id  user_id  order_amount  total_items payment_method  \\\n",
       "0         1       53      746           224            2           cash   \n",
       "1         2       92      925            90            1           cash   \n",
       "2         3       44      861           144            1           cash   \n",
       "3         4       18      935           156            1    credit_card   \n",
       "4         5       18      883           156            1    credit_card   \n",
       "\n",
       "           created_at  item_price  \n",
       "0 2017-03-13 12:36:56       112.0  \n",
       "1 2017-03-03 17:38:52        90.0  \n",
       "2 2017-03-14 04:23:56       144.0  \n",
       "3 2017-03-26 12:43:37       156.0  \n",
       "4 2017-03-01 04:35:11       156.0  "
      ]
     },
     "execution_count": 145,
     "metadata": {},
     "output_type": "execute_result"
    }
   ],
   "source": [
    "shoe_df['item_price'] = shoe_df['order_amount']/shoe_df['total_items']\n",
    "shoe_df.head()"
   ]
  },
  {
   "cell_type": "code",
   "execution_count": 146,
   "id": "directed-north",
   "metadata": {},
   "outputs": [],
   "source": [
    "# Quantiles"
   ]
  },
  {
   "cell_type": "code",
   "execution_count": 147,
   "id": "later-filling",
   "metadata": {},
   "outputs": [
    {
     "name": "stdout",
     "output_type": "stream",
     "text": [
      "The lower quartile of item price is: 133.0\n",
      "The upper quartile of item price is: 169.0\n",
      "The interquartile range of item price is: 36.0\n",
      "The the median of item price is: 153.0 \n",
      "Values below 79.0 could be outliers.\n",
      "Values above 223.0 could be outliers.\n"
     ]
    },
    {
     "data": {
      "text/html": [
       "<div>\n",
       "<style scoped>\n",
       "    .dataframe tbody tr th:only-of-type {\n",
       "        vertical-align: middle;\n",
       "    }\n",
       "\n",
       "    .dataframe tbody tr th {\n",
       "        vertical-align: top;\n",
       "    }\n",
       "\n",
       "    .dataframe thead th {\n",
       "        text-align: right;\n",
       "    }\n",
       "</style>\n",
       "<table border=\"1\" class=\"dataframe\">\n",
       "  <thead>\n",
       "    <tr style=\"text-align: right;\">\n",
       "      <th></th>\n",
       "      <th>order_id</th>\n",
       "      <th>shop_id</th>\n",
       "      <th>user_id</th>\n",
       "      <th>order_amount</th>\n",
       "      <th>total_items</th>\n",
       "      <th>payment_method</th>\n",
       "      <th>created_at</th>\n",
       "      <th>item_price</th>\n",
       "    </tr>\n",
       "  </thead>\n",
       "  <tbody>\n",
       "    <tr>\n",
       "      <th>0</th>\n",
       "      <td>16</td>\n",
       "      <td>42</td>\n",
       "      <td>607</td>\n",
       "      <td>704000</td>\n",
       "      <td>2000</td>\n",
       "      <td>credit_card</td>\n",
       "      <td>2017-03-07 04:00:00</td>\n",
       "      <td>352.0</td>\n",
       "    </tr>\n",
       "    <tr>\n",
       "      <th>1</th>\n",
       "      <td>41</td>\n",
       "      <td>42</td>\n",
       "      <td>793</td>\n",
       "      <td>352</td>\n",
       "      <td>1</td>\n",
       "      <td>credit_card</td>\n",
       "      <td>2017-03-24 14:15:41</td>\n",
       "      <td>352.0</td>\n",
       "    </tr>\n",
       "    <tr>\n",
       "      <th>2</th>\n",
       "      <td>61</td>\n",
       "      <td>42</td>\n",
       "      <td>607</td>\n",
       "      <td>704000</td>\n",
       "      <td>2000</td>\n",
       "      <td>credit_card</td>\n",
       "      <td>2017-03-04 04:00:00</td>\n",
       "      <td>352.0</td>\n",
       "    </tr>\n",
       "    <tr>\n",
       "      <th>3</th>\n",
       "      <td>161</td>\n",
       "      <td>78</td>\n",
       "      <td>990</td>\n",
       "      <td>25725</td>\n",
       "      <td>1</td>\n",
       "      <td>credit_card</td>\n",
       "      <td>2017-03-12 05:56:57</td>\n",
       "      <td>25725.0</td>\n",
       "    </tr>\n",
       "    <tr>\n",
       "      <th>4</th>\n",
       "      <td>309</td>\n",
       "      <td>42</td>\n",
       "      <td>770</td>\n",
       "      <td>352</td>\n",
       "      <td>1</td>\n",
       "      <td>credit_card</td>\n",
       "      <td>2017-03-11 18:14:39</td>\n",
       "      <td>352.0</td>\n",
       "    </tr>\n",
       "    <tr>\n",
       "      <th>...</th>\n",
       "      <td>...</td>\n",
       "      <td>...</td>\n",
       "      <td>...</td>\n",
       "      <td>...</td>\n",
       "      <td>...</td>\n",
       "      <td>...</td>\n",
       "      <td>...</td>\n",
       "      <td>...</td>\n",
       "    </tr>\n",
       "    <tr>\n",
       "      <th>92</th>\n",
       "      <td>4746</td>\n",
       "      <td>42</td>\n",
       "      <td>872</td>\n",
       "      <td>352</td>\n",
       "      <td>1</td>\n",
       "      <td>debit</td>\n",
       "      <td>2017-03-24 00:57:24</td>\n",
       "      <td>352.0</td>\n",
       "    </tr>\n",
       "    <tr>\n",
       "      <th>93</th>\n",
       "      <td>4768</td>\n",
       "      <td>42</td>\n",
       "      <td>720</td>\n",
       "      <td>704</td>\n",
       "      <td>2</td>\n",
       "      <td>credit_card</td>\n",
       "      <td>2017-03-14 10:26:08</td>\n",
       "      <td>352.0</td>\n",
       "    </tr>\n",
       "    <tr>\n",
       "      <th>94</th>\n",
       "      <td>4869</td>\n",
       "      <td>42</td>\n",
       "      <td>607</td>\n",
       "      <td>704000</td>\n",
       "      <td>2000</td>\n",
       "      <td>credit_card</td>\n",
       "      <td>2017-03-22 04:00:00</td>\n",
       "      <td>352.0</td>\n",
       "    </tr>\n",
       "    <tr>\n",
       "      <th>95</th>\n",
       "      <td>4883</td>\n",
       "      <td>42</td>\n",
       "      <td>607</td>\n",
       "      <td>704000</td>\n",
       "      <td>2000</td>\n",
       "      <td>credit_card</td>\n",
       "      <td>2017-03-25 04:00:00</td>\n",
       "      <td>352.0</td>\n",
       "    </tr>\n",
       "    <tr>\n",
       "      <th>96</th>\n",
       "      <td>4919</td>\n",
       "      <td>78</td>\n",
       "      <td>823</td>\n",
       "      <td>25725</td>\n",
       "      <td>1</td>\n",
       "      <td>cash</td>\n",
       "      <td>2017-03-15 13:26:46</td>\n",
       "      <td>25725.0</td>\n",
       "    </tr>\n",
       "  </tbody>\n",
       "</table>\n",
       "<p>97 rows × 8 columns</p>\n",
       "</div>"
      ],
      "text/plain": [
       "    order_id  shop_id  user_id  order_amount  total_items payment_method  \\\n",
       "0         16       42      607        704000         2000    credit_card   \n",
       "1         41       42      793           352            1    credit_card   \n",
       "2         61       42      607        704000         2000    credit_card   \n",
       "3        161       78      990         25725            1    credit_card   \n",
       "4        309       42      770           352            1    credit_card   \n",
       "..       ...      ...      ...           ...          ...            ...   \n",
       "92      4746       42      872           352            1          debit   \n",
       "93      4768       42      720           704            2    credit_card   \n",
       "94      4869       42      607        704000         2000    credit_card   \n",
       "95      4883       42      607        704000         2000    credit_card   \n",
       "96      4919       78      823         25725            1           cash   \n",
       "\n",
       "            created_at  item_price  \n",
       "0  2017-03-07 04:00:00       352.0  \n",
       "1  2017-03-24 14:15:41       352.0  \n",
       "2  2017-03-04 04:00:00       352.0  \n",
       "3  2017-03-12 05:56:57     25725.0  \n",
       "4  2017-03-11 18:14:39       352.0  \n",
       "..                 ...         ...  \n",
       "92 2017-03-24 00:57:24       352.0  \n",
       "93 2017-03-14 10:26:08       352.0  \n",
       "94 2017-03-22 04:00:00       352.0  \n",
       "95 2017-03-25 04:00:00       352.0  \n",
       "96 2017-03-15 13:26:46     25725.0  \n",
       "\n",
       "[97 rows x 8 columns]"
      ]
     },
     "execution_count": 147,
     "metadata": {},
     "output_type": "execute_result"
    }
   ],
   "source": [
    "# Determine if there are any potential outliers in average order_amount\n",
    "quartiles = shoe_df['item_price'].quantile([.25,.5,.75])\n",
    "lowerq = quartiles[0.25]\n",
    "upperq = quartiles[0.75]\n",
    "iqr = upperq-lowerq\n",
    "\n",
    "print(f\"The lower quartile of item price is: {lowerq}\")\n",
    "print(f\"The upper quartile of item price is: {upperq}\")\n",
    "print(f\"The interquartile range of item price is: {iqr}\")\n",
    "print(f\"The the median of item price is: {quartiles[0.5]} \")\n",
    "\n",
    "lower_bound = lowerq - (1.5*iqr)\n",
    "upper_bound = upperq + (1.5*iqr)\n",
    "print(f\"Values below {lower_bound} could be outliers.\")\n",
    "print(f\"Values above {upper_bound} could be outliers.\")\n",
    "\n",
    "outlier_order = shoe_df.loc[(shoe_df['item_price'] < lower_bound) | \n",
    "                                        (shoe_df['item_price'] > upper_bound)]\n",
    "outlier_order = outlier_order.reset_index(drop=True)\n",
    "outlier_order"
   ]
  },
  {
   "cell_type": "code",
   "execution_count": 148,
   "id": "cross-silver",
   "metadata": {},
   "outputs": [
    {
     "data": {
      "image/png": "[encoded data removed]",
      "text/plain": [
       "<Figure size 432x288 with 2 Axes>"
      ]
     },
     "metadata": {
      "needs_background": "light"
     },
     "output_type": "display_data"
    }
   ],
   "source": [
    "#outlier_shops = shoe_df.loc[(shoe_df['shop_id']==\"42\") | (shoe_df['shop_id']==\"78\")]\n",
    "plt.scatter(outlier_order['created_at'],outlier_order['order_amount'],\n",
    "c=outlier_order['item_price'])\n",
    "clb = plt.colorbar()\n",
    "plt.ylabel(\"Order Amount\")\n",
    "plt.xlabel(\"Date\")\n",
    "clb.set_label(\"Item Price\")\n",
    "plt.show()"
   ]
  },
  {
   "cell_type": "markdown",
   "id": "typical-priest",
   "metadata": {},
   "source": [
    "- We have 97 outlier orders.\n",
    "- 352 and 25725 orders belongs to shop 42 and 78 respectively so 78 is obviously is an outlier.\n",
    "- As seen in the figure same orders entered repeatedly, so there is an issue with the shop_id 42 and 78. This issue might be an incorrect pricing, a fraud, location based mistake (foreign currency or country taxes). Therefore these store_id 78's operations must be investigated.\n",
    "- Transactions of User_id 607 from shop_id seems like an automated orders timed at 04:00 am indicates a bulk orders from store 42."
   ]
  },
  {
   "cell_type": "code",
   "execution_count": 149,
   "id": "found-rocket",
   "metadata": {},
   "outputs": [
    {
     "name": "stdout",
     "output_type": "stream",
     "text": [
      "shop_id\n",
      "42    352.0\n",
      "12    201.0\n",
      "89    196.0\n",
      "99    195.0\n",
      "50    193.0\n",
      "Name: item_price, dtype: float64 shop_id\n",
      "7      112.0\n",
      "100    111.0\n",
      "32     101.0\n",
      "2       94.0\n",
      "92      90.0\n",
      "Name: item_price, dtype: float64\n"
     ]
    }
   ],
   "source": [
    "clean_df = shoe_df.drop(shoe_df[(shoe_df.shop_id == 78)].index)\n",
    "clean_df = clean_df.reset_index(drop=True)\n",
    "price_index = clean_df.groupby(['shop_id']).max()['item_price'].sort_values(ascending = False)\n",
    "print(price_index.head(),price_index.tail())"
   ]
  },
  {
   "cell_type": "code",
   "execution_count": 150,
   "id": "unknown-rates",
   "metadata": {},
   "outputs": [
    {
     "name": "stdout",
     "output_type": "stream",
     "text": [
      "count     5000.000000\n",
      "mean       387.742800\n",
      "std       2441.963725\n",
      "min         90.000000\n",
      "25%        133.000000\n",
      "50%        153.000000\n",
      "75%        169.000000\n",
      "max      25725.000000\n",
      "Name: item_price, dtype: float64 count    4954.000000\n",
      "mean      152.475575\n",
      "std        31.260218\n",
      "min        90.000000\n",
      "25%       132.000000\n",
      "50%       153.000000\n",
      "75%       168.000000\n",
      "max       352.000000\n",
      "Name: item_price, dtype: float64\n"
     ]
    }
   ],
   "source": [
    "print(shoe_df['item_price'].describe(),clean_df['item_price'].describe())"
   ]
  },
  {
   "cell_type": "markdown",
   "id": "pressed-restoration",
   "metadata": {},
   "source": [
    "Pricing metric and strategies vary as the numbers and these numbers seems in a good shape to get better AOV.\n",
    "Deeper analytics from this dataset might include:\n",
    "- Top and bottom performing stores\n",
    "- Foot traffic\n",
    "- Most valuable customers\n",
    "- Order type categorization"
   ]
  },
  {
   "cell_type": "code",
   "execution_count": 152,
   "id": "architectural-sheriff",
   "metadata": {},
   "outputs": [
    {
     "name": "stdout",
     "output_type": "stream",
     "text": [
      "Shopfiy AOV: 3145\n",
      "Better AOV: 2717\n"
     ]
    }
   ],
   "source": [
    "shopify_AOV = shoe_df['order_amount'].sum() / shoe_df['order_amount'].count()\n",
    "better_AOV = clean_df['order_amount'].sum() / clean_df['order_amount'].count()\n",
    "print('Shopfiy AOV:',round(shopify_AOV))\n",
    "print('Better AOV:',round(better_AOV))"
   ]
  },
  {
   "cell_type": "markdown",
   "id": "pointed-roots",
   "metadata": {},
   "source": [
    "### Question 2:\n",
    "2a: How many orders were shipped by Speedy Express in total?\n",
    "Answer: 54 orders shipped by Speedy Express\n",
    "```sql\n",
    "SELECT COUNT(ShipperName)\n",
    "FROM Orders INNER JOIN Shippers ON Orders.ShipperID = Shippers.ShipperID\n",
    "WHERE ShipperName = 'Speedy Express';\n",
    "```\n",
    "\n",
    "2b: What is the last name of the employee with the most orders?\n",
    "Answer: Peacock\n",
    "```sql\n",
    "SELECT Employees.LastName, COUNT(Employees.EmployeeID as num_orders\n",
    "FROM Employees INNER JOIN Orders ON EmployeeID = Employees.EmployeeID\n",
    "GROUP BY LastName\n",
    "ORDER BY Count(Employees.LastName) DESC\n",
    "LIMIT 1;\n",
    "```\n",
    "\n",
    "2c:What product was ordered the most by customers in Germany?\n",
    "Answer: \n",
    "Gorgonzola Telino\n",
    "Raclette Courdavault\n",
    "Mozeralla di Giovanni\n",
    "```sql\n",
    "SELECT ProductName FROM Products\n",
    "WHERE  ProductID IN\n",
    "(SELECT ProductID FROM\n",
    "    (SELECT ProductID,count(*) AS Total FROM OrderDetails WHERE PRODUCTID IN\n",
    "        (SELECT ProductID FROM OrderDetails WHERE OrderID IN\n",
    "            (SELECT OrderID FROM Orders Where CustomerID IN\n",
    "                (SELECT CustomerID FROM Customers WHERE Country = 'Germany')))\n",
    "GROUP BY ProductID\n",
    "```\n",
    "\n",
    "\n"
   ]
  },
  {
   "cell_type": "code",
   "execution_count": null,
   "id": "mexican-metropolitan",
   "metadata": {},
   "outputs": [],
   "source": []
  }
 ],
 "metadata": {
  "kernelspec": {
   "display_name": "Python 3",
   "language": "python",
   "name": "python3"
  },
  "language_info": {
   "codemirror_mode": {
    "name": "ipython",
    "version": 3
   },
   "file_extension": ".py",
   "mimetype": "text/x-python",
   "name": "python",
   "nbconvert_exporter": "python",
   "pygments_lexer": "ipython3",
   "version": "3.6.10"
  }
 },
 "nbformat": 4,
 "nbformat_minor": 5
}
